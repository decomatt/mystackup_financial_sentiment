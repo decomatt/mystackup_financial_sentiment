{
 "cells": [
  {
   "cell_type": "markdown",
   "id": "8963127e-295c-4526-92eb-4cfe0a7e38dd",
   "metadata": {},
   "source": [
    "### importing the require packages"
   ]
  },
  {
   "cell_type": "code",
   "execution_count": 67,
   "id": "32843cd0-42ca-4da8-85cf-7437faa6cd91",
   "metadata": {},
   "outputs": [],
   "source": [
    "from sklearn.linear_model import LogisticRegression\n",
    "from sklearn.model_selection import train_test_split\n",
    "from sklearn.metrics import accuracy_score, confusion_matrix, classification_report\n",
    "from sklearn.naive_bayes import MultinomialNB\n",
    "from sklearn.feature_extraction.text import CountVectorizer\n",
    "import pandas as pd"
   ]
  },
  {
   "cell_type": "markdown",
   "id": "d87dd419-ca10-4c88-9d3a-f70a889780d3",
   "metadata": {},
   "source": [
    "### loading and displaying the data using pandas"
   ]
  },
  {
   "cell_type": "code",
   "execution_count": 68,
   "id": "49740784-5cd9-4227-8ae9-6b742f760736",
   "metadata": {},
   "outputs": [
    {
     "data": {
      "text/html": [
       "<div>\n",
       "<style scoped>\n",
       "    .dataframe tbody tr th:only-of-type {\n",
       "        vertical-align: middle;\n",
       "    }\n",
       "\n",
       "    .dataframe tbody tr th {\n",
       "        vertical-align: top;\n",
       "    }\n",
       "\n",
       "    .dataframe thead th {\n",
       "        text-align: right;\n",
       "    }\n",
       "</style>\n",
       "<table border=\"1\" class=\"dataframe\">\n",
       "  <thead>\n",
       "    <tr style=\"text-align: right;\">\n",
       "      <th></th>\n",
       "      <th>Sentiment</th>\n",
       "      <th>News</th>\n",
       "    </tr>\n",
       "  </thead>\n",
       "  <tbody>\n",
       "    <tr>\n",
       "      <th>0</th>\n",
       "      <td>neutral</td>\n",
       "      <td>According to Gran , the company has no plans t...</td>\n",
       "    </tr>\n",
       "    <tr>\n",
       "      <th>1</th>\n",
       "      <td>neutral</td>\n",
       "      <td>Technopolis plans to develop in stages an area...</td>\n",
       "    </tr>\n",
       "    <tr>\n",
       "      <th>2</th>\n",
       "      <td>negative</td>\n",
       "      <td>The international electronic industry company ...</td>\n",
       "    </tr>\n",
       "    <tr>\n",
       "      <th>3</th>\n",
       "      <td>positive</td>\n",
       "      <td>With the new production plant the company woul...</td>\n",
       "    </tr>\n",
       "    <tr>\n",
       "      <th>4</th>\n",
       "      <td>positive</td>\n",
       "      <td>According to the company 's updated strategy f...</td>\n",
       "    </tr>\n",
       "    <tr>\n",
       "      <th>...</th>\n",
       "      <td>...</td>\n",
       "      <td>...</td>\n",
       "    </tr>\n",
       "    <tr>\n",
       "      <th>4841</th>\n",
       "      <td>negative</td>\n",
       "      <td>LONDON MarketWatch -- Share prices ended lower...</td>\n",
       "    </tr>\n",
       "    <tr>\n",
       "      <th>4842</th>\n",
       "      <td>neutral</td>\n",
       "      <td>Rinkuskiai 's beer sales fell by 6.5 per cent ...</td>\n",
       "    </tr>\n",
       "    <tr>\n",
       "      <th>4843</th>\n",
       "      <td>negative</td>\n",
       "      <td>Operating profit fell to EUR 35.4 mn from EUR ...</td>\n",
       "    </tr>\n",
       "    <tr>\n",
       "      <th>4844</th>\n",
       "      <td>negative</td>\n",
       "      <td>Net sales of the Paper segment decreased to EU...</td>\n",
       "    </tr>\n",
       "    <tr>\n",
       "      <th>4845</th>\n",
       "      <td>negative</td>\n",
       "      <td>Sales in Finland decreased by 10.5 % in Januar...</td>\n",
       "    </tr>\n",
       "  </tbody>\n",
       "</table>\n",
       "<p>4846 rows × 2 columns</p>\n",
       "</div>"
      ],
      "text/plain": [
       "     Sentiment                                               News\n",
       "0      neutral  According to Gran , the company has no plans t...\n",
       "1      neutral  Technopolis plans to develop in stages an area...\n",
       "2     negative  The international electronic industry company ...\n",
       "3     positive  With the new production plant the company woul...\n",
       "4     positive  According to the company 's updated strategy f...\n",
       "...        ...                                                ...\n",
       "4841  negative  LONDON MarketWatch -- Share prices ended lower...\n",
       "4842   neutral  Rinkuskiai 's beer sales fell by 6.5 per cent ...\n",
       "4843  negative  Operating profit fell to EUR 35.4 mn from EUR ...\n",
       "4844  negative  Net sales of the Paper segment decreased to EU...\n",
       "4845  negative  Sales in Finland decreased by 10.5 % in Januar...\n",
       "\n",
       "[4846 rows x 2 columns]"
      ]
     },
     "execution_count": 68,
     "metadata": {},
     "output_type": "execute_result"
    }
   ],
   "source": [
    "data = pd.read_csv(\"all-data.csv\", encoding='ISO-8859-1')\n",
    "data"
   ]
  },
  {
   "cell_type": "markdown",
   "id": "644a62ed-27ca-4b00-bec9-bd1103c3f624",
   "metadata": {},
   "source": [
    "### data cleaning and data analysis"
   ]
  },
  {
   "cell_type": "code",
   "execution_count": 69,
   "id": "d616d633-3ab3-42ff-80c7-f81770682e34",
   "metadata": {},
   "outputs": [
    {
     "data": {
      "text/plain": [
       "(4846, 2)"
      ]
     },
     "execution_count": 69,
     "metadata": {},
     "output_type": "execute_result"
    }
   ],
   "source": [
    "data.shape"
   ]
  },
  {
   "cell_type": "code",
   "execution_count": 70,
   "id": "8f4b255b-debd-4bd6-bf47-86119a7e8112",
   "metadata": {},
   "outputs": [
    {
     "data": {
      "text/html": [
       "<div>\n",
       "<style scoped>\n",
       "    .dataframe tbody tr th:only-of-type {\n",
       "        vertical-align: middle;\n",
       "    }\n",
       "\n",
       "    .dataframe tbody tr th {\n",
       "        vertical-align: top;\n",
       "    }\n",
       "\n",
       "    .dataframe thead th {\n",
       "        text-align: right;\n",
       "    }\n",
       "</style>\n",
       "<table border=\"1\" class=\"dataframe\">\n",
       "  <thead>\n",
       "    <tr style=\"text-align: right;\">\n",
       "      <th></th>\n",
       "      <th>Row</th>\n",
       "      <th>column</th>\n",
       "    </tr>\n",
       "  </thead>\n",
       "  <tbody>\n",
       "    <tr>\n",
       "      <th>0</th>\n",
       "      <td>4846</td>\n",
       "      <td>2</td>\n",
       "    </tr>\n",
       "  </tbody>\n",
       "</table>\n",
       "</div>"
      ],
      "text/plain": [
       "    Row  column\n",
       "0  4846       2"
      ]
     },
     "execution_count": 70,
     "metadata": {},
     "output_type": "execute_result"
    }
   ],
   "source": [
    "size_of_data = pd.DataFrame({\"Row\": data.shape[0], \"column\": data.shape[1]}, index=[0])\n",
    "size_of_data"
   ]
  },
  {
   "cell_type": "code",
   "execution_count": 71,
   "id": "78925dc7-1d23-43ca-8b40-a4b3e5b0effd",
   "metadata": {},
   "outputs": [
    {
     "name": "stdout",
     "output_type": "stream",
     "text": [
      "<class 'pandas.core.frame.DataFrame'>\n",
      "RangeIndex: 4846 entries, 0 to 4845\n",
      "Data columns (total 2 columns):\n",
      " #   Column     Non-Null Count  Dtype \n",
      "---  ------     --------------  ----- \n",
      " 0   Sentiment  4846 non-null   object\n",
      " 1   News       4846 non-null   object\n",
      "dtypes: object(2)\n",
      "memory usage: 75.8+ KB\n"
     ]
    }
   ],
   "source": [
    "data.info()"
   ]
  },
  {
   "cell_type": "code",
   "execution_count": 72,
   "id": "1ff58e4c-1718-4920-ad93-064779d52473",
   "metadata": {},
   "outputs": [
    {
     "data": {
      "text/plain": [
       "Sentiment    False\n",
       "News         False\n",
       "dtype: bool"
      ]
     },
     "execution_count": 72,
     "metadata": {},
     "output_type": "execute_result"
    }
   ],
   "source": [
    "new_data = data.dropna()\n",
    "new_data.isna().any()"
   ]
  },
  {
   "cell_type": "markdown",
   "id": "a5ba5d97-a504-4ae0-97d3-64e3078d7221",
   "metadata": {},
   "source": [
    "### data preprocessing"
   ]
  },
  {
   "cell_type": "code",
   "execution_count": 73,
   "id": "e67de055-c9e2-4780-972f-8b313943522f",
   "metadata": {},
   "outputs": [
    {
     "data": {
      "text/plain": [
       "Index(['Sentiment', 'News'], dtype='object')"
      ]
     },
     "execution_count": 73,
     "metadata": {},
     "output_type": "execute_result"
    }
   ],
   "source": [
    "new_data.columns"
   ]
  },
  {
   "cell_type": "code",
   "execution_count": 74,
   "id": "ed6d9a38-f39b-41cb-81b0-8c19093528dc",
   "metadata": {},
   "outputs": [],
   "source": [
    "text = new_data['News']\n",
    "labels = new_data['Sentiment']"
   ]
  },
  {
   "cell_type": "code",
   "execution_count": 75,
   "id": "3c6ab4c7-dc2e-499c-95f0-780ed8a661d2",
   "metadata": {},
   "outputs": [
    {
     "data": {
      "text/plain": [
       "0       According to Gran , the company has no plans t...\n",
       "1       Technopolis plans to develop in stages an area...\n",
       "2       The international electronic industry company ...\n",
       "3       With the new production plant the company woul...\n",
       "4       According to the company 's updated strategy f...\n",
       "                              ...                        \n",
       "4841    LONDON MarketWatch -- Share prices ended lower...\n",
       "4842    Rinkuskiai 's beer sales fell by 6.5 per cent ...\n",
       "4843    Operating profit fell to EUR 35.4 mn from EUR ...\n",
       "4844    Net sales of the Paper segment decreased to EU...\n",
       "4845    Sales in Finland decreased by 10.5 % in Januar...\n",
       "Name: News, Length: 4846, dtype: object"
      ]
     },
     "execution_count": 75,
     "metadata": {},
     "output_type": "execute_result"
    }
   ],
   "source": [
    "text"
   ]
  },
  {
   "cell_type": "code",
   "execution_count": 76,
   "id": "6f841f8b-a9dd-4379-b7e4-8384247dbacb",
   "metadata": {},
   "outputs": [
    {
     "data": {
      "text/plain": [
       "0        neutral\n",
       "1        neutral\n",
       "2       negative\n",
       "3       positive\n",
       "4       positive\n",
       "          ...   \n",
       "4841    negative\n",
       "4842     neutral\n",
       "4843    negative\n",
       "4844    negative\n",
       "4845    negative\n",
       "Name: Sentiment, Length: 4846, dtype: object"
      ]
     },
     "execution_count": 76,
     "metadata": {},
     "output_type": "execute_result"
    }
   ],
   "source": [
    "labels"
   ]
  },
  {
   "cell_type": "markdown",
   "id": "08ee3090-ccaa-49c6-9808-6712de747f08",
   "metadata": {},
   "source": [
    "### data visualizations"
   ]
  },
  {
   "cell_type": "code",
   "execution_count": 77,
   "id": "a2aad2ea-e0b1-461e-9f72-3eee829711ca",
   "metadata": {},
   "outputs": [],
   "source": [
    "import seaborn as sns\n",
    "import matplotlib.pyplot as plt"
   ]
  },
  {
   "cell_type": "code",
   "execution_count": 78,
   "id": "45ca33d4-0454-43e7-bea1-1f5f3d49c022",
   "metadata": {},
   "outputs": [
    {
     "data": {
      "image/png": "[encoded data removed]",
      "text/plain": [
       "<Figure size 640x480 with 1 Axes>"
      ]
     },
     "metadata": {},
     "output_type": "display_data"
    }
   ],
   "source": [
    "sns.countplot(x=labels, data=new_data)\n",
    "plt.title(\"sentiment review against the text\")\n",
    "plt.show()"
   ]
  },
  {
   "cell_type": "markdown",
   "id": "0fc42ba8-1607-437d-aa32-9f226897bf4f",
   "metadata": {},
   "source": [
    "### model training"
   ]
  },
  {
   "cell_type": "code",
   "execution_count": 79,
   "id": "2603fa9a-93b6-4dbc-be25-ce467eb84ba9",
   "metadata": {},
   "outputs": [],
   "source": [
    "train_text, test_text, train_labels, test_labels = train_test_split(text, labels, test_size=0.25, random_state=42)"
   ]
  },
  {
   "cell_type": "code",
   "execution_count": 80,
   "id": "99782ed3-6fb6-4af8-9bf2-70f38ebea57c",
   "metadata": {},
   "outputs": [],
   "source": [
    "#using the countvectorizer\n",
    "vectorizer = CountVectorizer(ngram_range=(1,2))\n",
    "\n",
    "#fit and transforming the train text\n",
    "train_vector = vectorizer.fit_transform(train_text)\n",
    "\n",
    "#transforming the test_text\n",
    "test_vector = vectorizer.transform(test_text)"
   ]
  },
  {
   "cell_type": "markdown",
   "id": "815be9ce-539c-47cb-b190-0bc31353922e",
   "metadata": {},
   "source": [
    "#### importing the models for predictions"
   ]
  },
  {
   "cell_type": "code",
   "execution_count": 81,
   "id": "029cfc79-24a7-4a2b-afb9-fd2ae9c854b8",
   "metadata": {},
   "outputs": [],
   "source": [
    "GN = MultinomialNB()"
   ]
  },
  {
   "cell_type": "code",
   "execution_count": 82,
   "id": "2022296c-dd78-42d9-ac49-fba119b48969",
   "metadata": {},
   "outputs": [
    {
     "data": {
      "text/html": [
       "<style>#sk-container-id-3 {color: black;}#sk-container-id-3 pre{padding: 0;}#sk-container-id-3 div.sk-toggleable {background-color: white;}#sk-container-id-3 label.sk-toggleable__label {cursor: pointer;display: block;width: 100%;margin-bottom: 0;padding: 0.3em;box-sizing: border-box;text-align: center;}#sk-container-id-3 label.sk-toggleable__label-arrow:before {content: \"▸\";float: left;margin-right: 0.25em;color: #696969;}#sk-container-id-3 label.sk-toggleable__label-arrow:hover:before {color: black;}#sk-container-id-3 div.sk-estimator:hover label.sk-toggleable__label-arrow:before {color: black;}#sk-container-id-3 div.sk-toggleable__content {max-height: 0;max-width: 0;overflow: hidden;text-align: left;background-color: #f0f8ff;}#sk-container-id-3 div.sk-toggleable__content pre {margin: 0.2em;color: black;border-radius: 0.25em;background-color: #f0f8ff;}#sk-container-id-3 input.sk-toggleable__control:checked~div.sk-toggleable__content {max-height: 200px;max-width: 100%;overflow: auto;}#sk-container-id-3 input.sk-toggleable__control:checked~label.sk-toggleable__label-arrow:before {content: \"▾\";}#sk-container-id-3 div.sk-estimator input.sk-toggleable__control:checked~label.sk-toggleable__label {background-color: #d4ebff;}#sk-container-id-3 div.sk-label input.sk-toggleable__control:checked~label.sk-toggleable__label {background-color: #d4ebff;}#sk-container-id-3 input.sk-hidden--visually {border: 0;clip: rect(1px 1px 1px 1px);clip: rect(1px, 1px, 1px, 1px);height: 1px;margin: -1px;overflow: hidden;padding: 0;position: absolute;width: 1px;}#sk-container-id-3 div.sk-estimator {font-family: monospace;background-color: #f0f8ff;border: 1px dotted black;border-radius: 0.25em;box-sizing: border-box;margin-bottom: 0.5em;}#sk-container-id-3 div.sk-estimator:hover {background-color: #d4ebff;}#sk-container-id-3 div.sk-parallel-item::after {content: \"\";width: 100%;border-bottom: 1px solid gray;flex-grow: 1;}#sk-container-id-3 div.sk-label:hover label.sk-toggleable__label {background-color: #d4ebff;}#sk-container-id-3 div.sk-serial::before {content: \"\";position: absolute;border-left: 1px solid gray;box-sizing: border-box;top: 0;bottom: 0;left: 50%;z-index: 0;}#sk-container-id-3 div.sk-serial {display: flex;flex-direction: column;align-items: center;background-color: white;padding-right: 0.2em;padding-left: 0.2em;position: relative;}#sk-container-id-3 div.sk-item {position: relative;z-index: 1;}#sk-container-id-3 div.sk-parallel {display: flex;align-items: stretch;justify-content: center;background-color: white;position: relative;}#sk-container-id-3 div.sk-item::before, #sk-container-id-3 div.sk-parallel-item::before {content: \"\";position: absolute;border-left: 1px solid gray;box-sizing: border-box;top: 0;bottom: 0;left: 50%;z-index: -1;}#sk-container-id-3 div.sk-parallel-item {display: flex;flex-direction: column;z-index: 1;position: relative;background-color: white;}#sk-container-id-3 div.sk-parallel-item:first-child::after {align-self: flex-end;width: 50%;}#sk-container-id-3 div.sk-parallel-item:last-child::after {align-self: flex-start;width: 50%;}#sk-container-id-3 div.sk-parallel-item:only-child::after {width: 0;}#sk-container-id-3 div.sk-dashed-wrapped {border: 1px dashed gray;margin: 0 0.4em 0.5em 0.4em;box-sizing: border-box;padding-bottom: 0.4em;background-color: white;}#sk-container-id-3 div.sk-label label {font-family: monospace;font-weight: bold;display: inline-block;line-height: 1.2em;}#sk-container-id-3 div.sk-label-container {text-align: center;}#sk-container-id-3 div.sk-container {/* jupyter's `normalize.less` sets `[hidden] { display: none; }` but bootstrap.min.css set `[hidden] { display: none !important; }` so we also need the `!important` here to be able to override the default hidden behavior on the sphinx rendered scikit-learn.org. See: https://github.com/scikit-learn/scikit-learn/issues/21755 */display: inline-block !important;position: relative;}#sk-container-id-3 div.sk-text-repr-fallback {display: none;}</style><div id=\"sk-container-id-3\" class=\"sk-top-container\"><div class=\"sk-text-repr-fallback\"><pre>MultinomialNB()</pre><b>In a Jupyter environment, please rerun this cell to show the HTML representation or trust the notebook. <br />On GitHub, the HTML representation is unable to render, please try loading this page with nbviewer.org.</b></div><div class=\"sk-container\" hidden><div class=\"sk-item\"><div class=\"sk-estimator sk-toggleable\"><input class=\"sk-toggleable__control sk-hidden--visually\" id=\"sk-estimator-id-3\" type=\"checkbox\" checked><label for=\"sk-estimator-id-3\" class=\"sk-toggleable__label sk-toggleable__label-arrow\">MultinomialNB</label><div class=\"sk-toggleable__content\"><pre>MultinomialNB()</pre></div></div></div></div></div>"
      ],
      "text/plain": [
       "MultinomialNB()"
      ]
     },
     "execution_count": 82,
     "metadata": {},
     "output_type": "execute_result"
    }
   ],
   "source": [
    "GN.fit(train_vector, train_labels)"
   ]
  },
  {
   "cell_type": "code",
   "execution_count": 83,
   "id": "f106f161-6068-414d-8eb9-3978804fc6b0",
   "metadata": {},
   "outputs": [
    {
     "data": {
      "text/plain": [
       "array(['neutral', 'neutral', 'positive', ..., 'neutral', 'positive',\n",
       "       'neutral'], dtype='<U8')"
      ]
     },
     "execution_count": 83,
     "metadata": {},
     "output_type": "execute_result"
    }
   ],
   "source": [
    "pred = GN.predict(test_vector)\n",
    "pred"
   ]
  },
  {
   "cell_type": "markdown",
   "id": "b6ad6164-1b99-44f6-9c54-5410899d1f6e",
   "metadata": {},
   "source": [
    "#### using confusion matrix to performance the data"
   ]
  },
  {
   "cell_type": "code",
   "execution_count": 84,
   "id": "f4e017e5-ac03-4f10-8c3f-a4162ec9f072",
   "metadata": {},
   "outputs": [
    {
     "data": {
      "text/plain": [
       "array([[ 63,  52,  28],\n",
       "       [  6, 665,  42],\n",
       "       [  9, 153, 194]], dtype=int64)"
      ]
     },
     "execution_count": 84,
     "metadata": {},
     "output_type": "execute_result"
    }
   ],
   "source": [
    "matrix = confusion_matrix(test_labels, pred)\n",
    "matrix"
   ]
  },
  {
   "cell_type": "code",
   "execution_count": 95,
   "id": "362168e9-7979-4c44-b7a9-9960bd01bddf",
   "metadata": {},
   "outputs": [
    {
     "data": {
      "image/png": "[encoded data removed]",
      "text/plain": [
       "<Figure size 640x480 with 2 Axes>"
      ]
     },
     "metadata": {},
     "output_type": "display_data"
    }
   ],
   "source": [
    "sns.heatmap(matrix,annot=True,fmt='g')\n",
    "plt.xlabel(\"predicted labels\")\n",
    "plt.ylabel(\"actual labels\")\n",
    "plt.title(\"sentiment analysis performance using confusion matrix\")\n",
    "plt.show()"
   ]
  },
  {
   "cell_type": "markdown",
   "id": "9d0cd18c-4293-4f60-982a-9f1ceda0edb4",
   "metadata": {},
   "source": [
    "#### using accuracy score to check the performance of the data"
   ]
  },
  {
   "cell_type": "code",
   "execution_count": 96,
   "id": "e22cd0e7-197e-4d48-b419-b443bd967610",
   "metadata": {},
   "outputs": [
    {
     "name": "stdout",
     "output_type": "stream",
     "text": [
      "Accuracy using Naive bayes is: 76.072607 %\n"
     ]
    }
   ],
   "source": [
    "accuracy = accuracy_score(test_labels, pred)\n",
    "print(f\"Accuracy using Naive bayes is: {(accuracy * 100):2f} %\")"
   ]
  },
  {
   "cell_type": "code",
   "execution_count": 97,
   "id": "714f58a6-2ace-428a-a1e6-a536ec199f79",
   "metadata": {},
   "outputs": [
    {
     "name": "stdout",
     "output_type": "stream",
     "text": [
      "              precision    recall  f1-score   support\n",
      "\n",
      "    negative       0.81      0.44      0.57       143\n",
      "     neutral       0.76      0.93      0.84       713\n",
      "    positive       0.73      0.54      0.63       356\n",
      "\n",
      "    accuracy                           0.76      1212\n",
      "   macro avg       0.77      0.64      0.68      1212\n",
      "weighted avg       0.76      0.76      0.75      1212\n",
      "\n"
     ]
    }
   ],
   "source": [
    "report = classification_report(test_labels, pred)\n",
    "print(report)"
   ]
  },
  {
   "cell_type": "code",
   "execution_count": 100,
   "id": "13b7cb68-7cff-4b15-b7de-f7383be109d0",
   "metadata": {},
   "outputs": [
    {
     "name": "stdout",
     "output_type": "stream",
     "text": [
      "The sentiment predicted by the model is: positive\n"
     ]
    }
   ],
   "source": [
    "# Function to predict sentiment of a new review\n",
    "def predict_sentiment(new_text):\n",
    "    new_vector = vectorizer.transform([new_text])\n",
    "    pred = GN.predict(new_vector)\n",
    "    return pred[0]\n",
    "\n",
    "# Test the function\n",
    "sample_review = \"According to the company 's updated strategy for the years 2009-2012 , Basware targets a long-term net sales growth in the range of 20 % -40 % with an operating profit margin of 10 % -20 % of net sales.\"\n",
    "print(f\"The sentiment predicted by the model is: {predict_sentiment(sample_review)}\")"
   ]
  },
  {
   "cell_type": "markdown",
   "id": "19cb61b4-b872-45e7-839a-80a734289da3",
   "metadata": {},
   "source": [
    "# Financial New Sentiment Analysis\n",
    "'''\n",
    "    The Finanacial new data was gotton from kaggle, a nice and robust data science community with tones of datasets for data analysis and machine learning.\n",
    "    The Essence of this analysis is to rate a given news based on how positive it is i.e if it is containing positive statement all through, how negative it is\n",
    "    and how neutral the news might be....\n",
    "\n",
    "    the steps i took in building a model to prodict the sentiment from the financial news datasets include\n",
    "    1) downloading the datasets form kaggle\n",
    "    2) using jupyter notebook to import and create my file\n",
    "    3) carrying out data analysis on the data which include data cleaning, data satisitics, data preprocessing and data visualization\n",
    "    4) using machine learning algorithms i.e the supervised learning algorithms  since my datasets contains both input and output to predict unseen outcome by making use of naive bayes.\n",
    "    the esssence of using the naive bayes algorithms was because of it moderate performance on the outcome of the datasets, giving an efficient result when predicting unseen data\n",
    "    \n",
    "'''"
   ]
  },
  {
   "cell_type": "code",
   "execution_count": null,
   "id": "dc310b70-abdc-4c31-9240-588c9b20248f",
   "metadata": {},
   "outputs": [],
   "source": []
  }
 ],
 "metadata": {
  "kernelspec": {
   "display_name": "Python 3 (ipykernel)",
   "language": "python",
   "name": "python3"
  },
  "language_info": {
   "codemirror_mode": {
    "name": "ipython",
    "version": 3
   },
   "file_extension": ".py",
   "mimetype": "text/x-python",
   "name": "python",
   "nbconvert_exporter": "python",
   "pygments_lexer": "ipython3",
   "version": "3.9.2rc1"
  }
 },
 "nbformat": 4,
 "nbformat_minor": 5
}
